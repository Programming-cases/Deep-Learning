{
 "cells": [
  {
   "cell_type": "markdown",
   "metadata": {},
   "source": [
    "# Multiple Output Linear Regression Training  \n",
    "<br>\n",
    "In this case, we are dealing with **2-D bias**:\n",
    "$$\\large b=\\left[ \\begin{array}{c} b_1 \\\\ b_2\\end{array} \\right]$$ "
   ]
  },
  {
   "cell_type": "code",
   "execution_count": 1,
   "metadata": {},
   "outputs": [],
   "source": [
    "import torch as pt"
   ]
  },
  {
   "cell_type": "markdown",
   "metadata": {},
   "source": [
    "Defining Dataset in 2D and Trainloader:"
   ]
  },
  {
   "cell_type": "code",
   "execution_count": 2,
   "metadata": {},
   "outputs": [],
   "source": [
    "from torch.utils.data import Dataset, DataLoader "
   ]
  },
  {
   "cell_type": "code",
   "execution_count": 3,
   "metadata": {},
   "outputs": [],
   "source": [
    "class Data2D(Dataset):\n",
    "    def __init__(self):\n",
    "        self.x=pt.zeros(20,2)\n",
    "        self.x[:,0]=pt.arange(-1,1,0.1)\n",
    "        self.x[:,1]=pt.arange(-1,1,0.1)\n",
    "        self.w=pt.tensor([[1.0],[1.0]])\n",
    "        self.b=pt.tensor([[1.0,-1.0]])\n",
    "        \n",
    "        self.f=pt.mm(self.x,self.w)+self.b \n",
    "        self.y=self.f+0.45*pt.randn(self.x.shape[0],1)\n",
    "        \n",
    "        self.len= self.x.shape[0]\n",
    "        \n",
    "    def __getitem__(self,index):\n",
    "        return self.x[index],self.y[index]\n",
    "    \n",
    "    def __len__(self):\n",
    "        return self.len"
   ]
  },
  {
   "cell_type": "code",
   "execution_count": 4,
   "metadata": {},
   "outputs": [],
   "source": [
    "dataset=Data2D()"
   ]
  },
  {
   "cell_type": "markdown",
   "metadata": {},
   "source": [
    "Defining the `trainloader`:"
   ]
  },
  {
   "cell_type": "code",
   "execution_count": 5,
   "metadata": {},
   "outputs": [],
   "source": [
    "trainloader= DataLoader(dataset=dataset,batch_size=1)"
   ]
  },
  {
   "cell_type": "markdown",
   "metadata": {},
   "source": [
    "Defining the linear model:"
   ]
  },
  {
   "cell_type": "code",
   "execution_count": 6,
   "metadata": {},
   "outputs": [],
   "source": [
    "import torch.nn as nn"
   ]
  },
  {
   "cell_type": "code",
   "execution_count": 7,
   "metadata": {},
   "outputs": [],
   "source": [
    "class LR(nn.Module):\n",
    "    def __init__(self,in_size,out_size):\n",
    "        super(LR,self).__init__()\n",
    "        self.linear=nn.Linear(in_size,out_size)\n",
    "        \n",
    "    def forward(self,x):\n",
    "        out= self.linear(x)\n",
    "        return out    "
   ]
  },
  {
   "cell_type": "markdown",
   "metadata": {},
   "source": [
    "**Another option:**\n",
    "<br>Instead of programming the last, you can write the next expression: <br>``model= nn.Linear(2,2)``"
   ]
  },
  {
   "cell_type": "markdown",
   "metadata": {},
   "source": [
    "Defining the objective function ***Mean Square Error*** on **Loss**: "
   ]
  },
  {
   "cell_type": "code",
   "execution_count": 8,
   "metadata": {},
   "outputs": [],
   "source": [
    "criterion= nn.MSELoss()"
   ]
  },
  {
   "cell_type": "markdown",
   "metadata": {},
   "source": [
    "Creating the program:"
   ]
  },
  {
   "cell_type": "code",
   "execution_count": 9,
   "metadata": {},
   "outputs": [],
   "source": [
    "LOSS=[]\n",
    "#model=nn.Linear(2,2)\n",
    "model= LR(2,2)\n",
    "optimizer= pt.optim.SGD(model.parameters(),lr=0.01)\n",
    "for epoch in range(25):\n",
    "    for x,y in trainloader:\n",
    "        yhat=model(x)\n",
    "        loss=criterion(yhat,y)\n",
    "        optimizer.zero_grad()\n",
    "        loss.backward()\n",
    "        optimizer.step()\n",
    "    LOSS.append(float(loss))"
   ]
  },
  {
   "cell_type": "markdown",
   "metadata": {},
   "source": [
    "Checking the best-set parameters: "
   ]
  },
  {
   "cell_type": "code",
   "execution_count": 10,
   "metadata": {},
   "outputs": [
    {
     "name": "stdout",
     "output_type": "stream",
     "text": [
      "w=tensor([[0.6459, 1.0394],\n",
      "        [1.1279, 0.5665]])\n",
      "b=tensor([ 1.0317, -0.9528])\n"
     ]
    }
   ],
   "source": [
    "parameters=list(model.parameters())\n",
    "print('w={0}\\nb={1}'.format(parameters[0].data,parameters[1].data))"
   ]
  },
  {
   "cell_type": "markdown",
   "metadata": {},
   "source": [
    "Graphing Loss:"
   ]
  },
  {
   "cell_type": "code",
   "execution_count": 12,
   "metadata": {},
   "outputs": [
    {
     "data": {
      "image/png": "[encoded data removed]",
      "text/plain": [
       "<Figure size 1368x504 with 1 Axes>"
      ]
     },
     "metadata": {},
     "output_type": "display_data"
    }
   ],
   "source": [
    "import matplotlib.pyplot as plt\n",
    "plt.figure(figsize=(19,7))\n",
    "plt.style.use('ggplot')\n",
    "plt.plot(LOSS,c='cyan')\n",
    "plt.xlabel('epoch')\n",
    "plt.ylabel('loss')\n",
    "plt.show()"
   ]
  }
 ],
 "metadata": {
  "kernelspec": {
   "display_name": "Python 3",
   "language": "python",
   "name": "python3"
  },
  "language_info": {
   "codemirror_mode": {
    "name": "ipython",
    "version": 3
   },
   "file_extension": ".py",
   "mimetype": "text/x-python",
   "name": "python",
   "nbconvert_exporter": "python",
   "pygments_lexer": "ipython3",
   "version": "3.7.0"
  }
 },
 "nbformat": 4,
 "nbformat_minor": 2
}
