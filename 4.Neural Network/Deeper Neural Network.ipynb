{
 "cells": [
  {
   "cell_type": "markdown",
   "metadata": {},
   "source": [
    "# Deeper Neural Network:*Relu vs Tanh vs Sigmoid* \n",
    "<br>  "
   ]
  },
  {
   "cell_type": "markdown",
   "metadata": {},
   "source": [
    "Remember: **Two inputs**:<br> <br>\n",
    "**1:M:28×28 matrices:**  \n",
    "$$M=\\left(\\begin{array}{cccc} a_{1,1}& a_{1,2} & \\cdots & a_{1,28} \\\\ a_{2,1} & a_{2,2} & \\cdots & a_{2,28} \\\\ \\vdots & \\vdots & \\ddots & \\vdots \\\\a_{28,1} & a_{28,2}&\\cdots & a_{28,28} \\end{array} \\right)$$ <br> **2:And a digit t:** $\\left[n\\right]$ <br> <br>\n",
    "The method consists of predicting the digit (from 0 to 9) from M.<br>\n",
    "First we are going to transform M to a 28×28 row matrix: \n",
    "$M'=\\left[ \\begin{array}{c} a_{1,1} & \\cdots & a_{1,28} &\\cdots&\\cdots& a_{28,1} &\\cdots& a_{28,28}\\end{array} \\right]$  \n",
    "<br>The linear model:<br><br>\n",
    "$$\\large Y_{1\\times 50}=M'_{1\\times 28^2}W_{28^2\\times50}+B_{1\\times50}$$\n",
    "<br><br>\n",
    "$$\\left[\\begin{array}{c} y_{1,1}&y_{1,2}&\\cdots&y_{1,50}\\end{array}\\right]=$$\n",
    "$$\\left[ \\begin{array}{c} a_{1,1} & \\cdots & a_{1,28} &\\cdots&\\cdots& a_{28,1} &\\cdots& a_{28,28}\\end{array} \\right]\n",
    "\\left[\\begin{array}{cccc} \n",
    "w_{1,1}& w_{1,2} & \\cdots & w_{1,50} \\\\ \n",
    "w_{2,1} & w_{2,2} & \\cdots & w_{2,50} \\\\ \n",
    "\\vdots & \\vdots & \\ddots & \\vdots \\\\\n",
    "w_{28^2,1} & w_{28^2,2}&\\cdots & w_{28^2,50} \\end{array} \\right]+$$  \n",
    "$$\\left[\\begin{array}{c} b_{1,1}&b_{1,2}&\\cdots&b_{1,50}\\end{array}\\right] $$ <br>\n",
    "\n",
    "Then applying ***Cross Entropy Loss***($\\large \\sigma$), we transform Y to:<br> \n",
    "- **Logistical Function(Sigmoid)**\n",
    "- **Tanh**\n",
    "- **Relu**<br>\n",
    "\n",
    "And choose the cell whose value is the maximum of the components. Finally the cell selected will be compared with **t**<br>\n",
    "<br>In summary:<br>\n",
    "\n",
    "$$ \\left(\\begin{array}{cccc}\n",
    "                        x_1 \\\\ \n",
    "                        x_2 \\\\ \n",
    "                     \\vdots \\\\ \n",
    "x_{28\\times28}\\end {array} \\right) \n",
    "\\Longrightarrow \n",
    "\\left(\\begin{array}{cccc}\n",
    "                      p_1 \\\\ \n",
    "                      p_2 \\\\ \n",
    "                     \\vdots \\\\ \n",
    "p_{50}\\end {array} \\right) , \n",
    "\\sigma \\Longrightarrow\n",
    "\\left(\\begin{array}{cccc}\n",
    "                    p'_1 \\\\ \n",
    "                    p'_2 \\\\ \n",
    "                  \\vdots \\\\ \n",
    "p'_{50}\\end {array} \\right), \n",
    "\\sigma \\Longrightarrow\n",
    "\\left(\\begin{array}{cccc}\n",
    "                    q_1 \\\\ \n",
    "                    q_2 \\\\ \n",
    "                 \\vdots \\\\ \n",
    "q_{10}\\end {array} \\right)\\Longrightarrow [y]$$<br>"
   ]
  },
  {
   "cell_type": "code",
   "execution_count": 1,
   "metadata": {},
   "outputs": [],
   "source": [
    "import torch as pt\n",
    "import torch.nn as nn\n",
    "import torchvision.transforms as transforms"
   ]
  },
  {
   "cell_type": "markdown",
   "metadata": {},
   "source": [
    "Importing `Dataset` from $Pytorch$:"
   ]
  },
  {
   "cell_type": "code",
   "execution_count": 2,
   "metadata": {},
   "outputs": [],
   "source": [
    "import torchvision.datasets as dsets"
   ]
  },
  {
   "cell_type": "markdown",
   "metadata": {},
   "source": [
    "Importing *Matplotlib*:"
   ]
  },
  {
   "cell_type": "code",
   "execution_count": 3,
   "metadata": {},
   "outputs": [],
   "source": [
    "import matplotlib.pyplot as plt\n",
    "plt.style.use('ggplot')"
   ]
  },
  {
   "cell_type": "markdown",
   "metadata": {},
   "source": [
    "## Train and Validation data:\n",
    "Remember:\n",
    "```python\n",
    "train_datos=dsets.MNIST(.....,train=True,....)\n",
    "validation_datos=dsets.MNIST(.....,train=False,....)```"
   ]
  },
  {
   "cell_type": "code",
   "execution_count": 4,
   "metadata": {},
   "outputs": [],
   "source": [
    "train_dataset= dsets.MNIST(root='./data',train=True,download=True,transform=transforms.ToTensor())\n",
    "validation_dataset=dsets.MNIST(root='./data',train=False,download=True,transform=transforms.ToTensor())"
   ]
  },
  {
   "cell_type": "markdown",
   "metadata": {},
   "source": [
    "Defining the models:"
   ]
  },
  {
   "cell_type": "code",
   "execution_count": 5,
   "metadata": {},
   "outputs": [],
   "source": [
    "#Sigmoid:\n",
    "model_Sig=nn.Sequential(pt.nn.Linear(28*28,50),nn.Sigmoid(),pt.nn.Linear(50,50),nn.Sigmoid() ,nn.Linear(50,10))\n",
    "#Tanh:\n",
    "model_Tanh=nn.Sequential(pt.nn.Linear(28*28,50),nn.Tanh(),pt.nn.Linear(50,50),nn.Tanh(),nn.Linear(50,10))\n",
    "#Relu:\n",
    "model_Relu=nn.Sequential(pt.nn.Linear(28*28,50),nn.ReLU(),pt.nn.Linear(50,50),nn.ReLU(),nn.Linear(50,10))"
   ]
  },
  {
   "cell_type": "code",
   "execution_count": 6,
   "metadata": {},
   "outputs": [
    {
     "name": "stdout",
     "output_type": "stream",
     "text": [
      "Sigmoid:\n",
      "W= torch.Size([50, 784])\n",
      "b= torch.Size([50])\n"
     ]
    }
   ],
   "source": [
    "print('Sigmoid:')\n",
    "print('W=',list(model_Sig.parameters())[0].size())\n",
    "print('b=',list(model_Sig.parameters())[1].size())"
   ]
  },
  {
   "cell_type": "code",
   "execution_count": 7,
   "metadata": {},
   "outputs": [
    {
     "name": "stdout",
     "output_type": "stream",
     "text": [
      "Tanh:\n",
      "W= torch.Size([50, 784])\n",
      "b= torch.Size([50])\n"
     ]
    }
   ],
   "source": [
    "print('Tanh:')\n",
    "print('W=',list(model_Tanh.parameters())[0].size())\n",
    "print('b=',list(model_Tanh.parameters())[1].size())"
   ]
  },
  {
   "cell_type": "code",
   "execution_count": 8,
   "metadata": {},
   "outputs": [
    {
     "name": "stdout",
     "output_type": "stream",
     "text": [
      "Relu:\n",
      "W= torch.Size([50, 784])\n",
      "b= torch.Size([50])\n"
     ]
    }
   ],
   "source": [
    "print('Relu:')\n",
    "print('W=',list(model_Relu.parameters())[0].size())\n",
    "print('b=',list(model_Relu.parameters())[1].size())"
   ]
  },
  {
   "cell_type": "code",
   "execution_count": 9,
   "metadata": {},
   "outputs": [],
   "source": [
    "criterion=nn.CrossEntropyLoss()"
   ]
  },
  {
   "cell_type": "markdown",
   "metadata": {},
   "source": [
    "## Train and validation loader:"
   ]
  },
  {
   "cell_type": "code",
   "execution_count": 10,
   "metadata": {},
   "outputs": [],
   "source": [
    "train_loader=pt.utils.data.DataLoader(dataset=train_dataset,batch_size=1000)\n",
    "validation_loader=pt.utils.data.DataLoader(dataset=validation_dataset,batch_size=5000)"
   ]
  },
  {
   "cell_type": "markdown",
   "metadata": {},
   "source": [
    "### Running the program:\n",
    "## Sigmoid:"
   ]
  },
  {
   "cell_type": "code",
   "execution_count": 11,
   "metadata": {},
   "outputs": [],
   "source": [
    "loss_Sigmoid=[]\n",
    "accuracy_Sigmoid=[]\n",
    "optimizer=pt.optim.SGD(model_Sig.parameters(),lr=0.01)\n",
    "for epoch in range(10):\n",
    "    for x,y in train_loader:\n",
    "        optimizer.zero_grad()\n",
    "        z= model_Sig(x.view(-1,28*28))\n",
    "        loss=criterion(z,y)\n",
    "        loss.backward()\n",
    "        optimizer.step()\n",
    "    correct=0\n",
    "    for x_test,y_test in validation_loader:\n",
    "        z= model_Sig(x_test.view(-1,28*28))\n",
    "        _,yhat=pt.max(z.data,1)\n",
    "        correct += (yhat==y_test).sum().item()\n",
    "    accuracy= correct/len(validation_dataset)\n",
    "    accuracy_Sigmoid.append(accuracy)\n",
    "    loss_Sigmoid.append(float(loss))"
   ]
  },
  {
   "cell_type": "markdown",
   "metadata": {},
   "source": [
    "## Tanh:"
   ]
  },
  {
   "cell_type": "code",
   "execution_count": 12,
   "metadata": {},
   "outputs": [],
   "source": [
    "loss_Tanh=[]\n",
    "accuracy_Tanh=[]\n",
    "optimizer=pt.optim.SGD(model_Tanh.parameters(),lr=0.01)\n",
    "for epoch in range(10):\n",
    "    for x,y in train_loader:\n",
    "        optimizer.zero_grad()\n",
    "        z= model_Tanh(x.view(-1,28*28))\n",
    "        loss=criterion(z,y)\n",
    "        loss.backward()\n",
    "        optimizer.step()\n",
    "    correct=0\n",
    "    for x_test,y_test in validation_loader:\n",
    "        z= model_Tanh(x_test.view(-1,28*28))\n",
    "        _,yhat=pt.max(z.data,1)\n",
    "        correct += (yhat==y_test).sum().item()\n",
    "    accuracy= correct/len(validation_dataset)\n",
    "    accuracy_Tanh.append(accuracy)\n",
    "    loss_Tanh.append(float(loss))"
   ]
  },
  {
   "cell_type": "markdown",
   "metadata": {},
   "source": [
    "## Relu:"
   ]
  },
  {
   "cell_type": "code",
   "execution_count": 13,
   "metadata": {},
   "outputs": [],
   "source": [
    "loss_Relu=[]\n",
    "accuracy_Relu=[]\n",
    "optimizer=pt.optim.SGD(model_Relu.parameters(),lr=0.01)\n",
    "for epoch in range(10):\n",
    "    for x,y in train_loader:\n",
    "        optimizer.zero_grad()\n",
    "        z= model_Relu(x.view(-1,28*28))\n",
    "        loss=criterion(z,y)\n",
    "        loss.backward()\n",
    "        optimizer.step()\n",
    "    correct=0\n",
    "    for x_test,y_test in validation_loader:\n",
    "        z= model_Relu(x_test.view(-1,28*28))\n",
    "        _,yhat=pt.max(z.data,1)\n",
    "        correct += (yhat==y_test).sum().item()\n",
    "    accuracy= correct/len(validation_dataset)\n",
    "    accuracy_Relu.append(accuracy)\n",
    "    loss_Relu.append(float(loss))"
   ]
  },
  {
   "cell_type": "code",
   "execution_count": 14,
   "metadata": {},
   "outputs": [
    {
     "data": {
      "image/png": "[encoded data removed]",
      "text/plain": [
       "<Figure size 1008x504 with 2 Axes>"
      ]
     },
     "metadata": {},
     "output_type": "display_data"
    }
   ],
   "source": [
    "fig,ax=plt.subplots(2,1,sharex=True,figsize=(14,7))\n",
    "ax[0].plot(loss_Sigmoid,color='blue',label= 'Sigmoid')\n",
    "ax[0].plot(loss_Tanh,color='orange',label= 'Tanh')\n",
    "ax[0].plot(loss_Relu,color='purple',label= 'Relu')\n",
    "ax[0].set( ylabel='loss')\n",
    "ax[0].legend(bbox_to_anchor=(1.05, 0), loc='lower left', borderaxespad=0.)\n",
    "ax[1].plot(accuracy_Sigmoid,color='blue',label='Sigmoid')\n",
    "ax[1].plot(accuracy_Tanh,color='orange',label='Tanh')\n",
    "ax[1].plot(accuracy_Relu,color='purple',label='Relu')\n",
    "ax[1].set( ylabel='acurracy')\n",
    "plt.xlabel('epochs')\n",
    "plt.show()"
   ]
  },
  {
   "cell_type": "markdown",
   "metadata": {},
   "source": [
    "* By far, it's not convenient `Sigmoid` function.\n",
    "* The best models: **first** `Tanh` and **then** `Relu`.\n",
    "* From the point of view of computational cost:it's more convenient to add a layer than a neuron."
   ]
  }
 ],
 "metadata": {
  "kernelspec": {
   "display_name": "Python 3",
   "language": "python",
   "name": "python3"
  },
  "language_info": {
   "codemirror_mode": {
    "name": "ipython",
    "version": 3
   },
   "file_extension": ".py",
   "mimetype": "text/x-python",
   "name": "python",
   "nbconvert_exporter": "python",
   "pygments_lexer": "ipython3",
   "version": "3.7.0"
  }
 },
 "nbformat": 4,
 "nbformat_minor": 2
}
