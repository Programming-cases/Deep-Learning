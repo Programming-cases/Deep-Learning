{
 "cells": [
  {
   "cell_type": "markdown",
   "metadata": {},
   "source": [
    "# Softmax Pytorch <br>    "
   ]
  },
  {
   "cell_type": "markdown",
   "metadata": {},
   "source": [
    "In the example, we have **two kinds** of inputs:<br> <br>\n",
    "**1:M:28×28 matrixes:**  \n",
    "$$M=\\left(\\begin{array}{cccc} a_{1,1}& a_{1,2} & \\cdots & a_{1,28} \\\\ a_{2,1} & a_{2,2} & \\cdots & a_{2,28} \\\\ \\vdots & \\vdots & \\ddots & \\vdots \\\\a_{28,1} & a_{28,2}&\\cdots & a_{28,28} \\end{array} \\right)$$ <br> **2:And a digit *t*:** $\\left[n\\right]$ <br> <br>\n",
    "The method is to predict the digit (from 0 to 9) from the M.<br>\n",
    "To do that, we first are going to transform M to a 28×28 row matrix: \n",
    "$M'=\\left[ \\begin{array}{c} a_{1,1} & \\cdots & a_{1,28} &\\cdots&\\cdots& a_{28,1} &\\cdots& a_{28,28}\\end{array} \\right]$  \n",
    "<br>The model is as follows:<br><br>\n",
    "$$\\large Y_{1\\times 10}=M'_{1\\times 28^2}W_{28^2\\times10}+B_{1\\times10}$$<br><br>\n",
    "$$\\left[\\begin{array}{c} y_{1,1}&y_{1,2}&\\cdots&y_{1,10}\\end{array}\\right]=\\left[ \\begin{array}{c} a_{1,1} & \\cdots & a_{1,28} &\\cdots&\\cdots& a_{28,1} &\\cdots& a_{28,28}\\end{array} \\right]\\left[\\begin{array}{cccc} w_{1,1}& w_{1,2} & \\cdots & w_{1,10} \\\\ w_{2,1} & w_{2,2} & \\cdots & w_{2,10} \\\\ \\vdots & \\vdots & \\ddots & \\vdots \\\\w_{28^2,1} & w_{28^2,2}&\\cdots & w_{28^2,10} \\end{array} \\right]+ \\left[\\begin{array}{c} b_{1,1}&b_{1,2}&\\cdots&b_{1,10}\\end{array}\\right] $$ <br>\n",
    "Then apply *** Cross Entropy Loss ***, we transform Y to a Logistical Function and choose the cell whose value is the maximum of the components. Finally the cell selected will be compared with **t**:<br><br>\n",
    "$$\\large \\left[\\begin{array}{cccc} y_1\\\\y_2\\\\ \\vdots \\\\ y_{10}\\end{array}\\right] \\Rightarrow    \\left[\\begin{array}{cccc} P_1=\\frac{e^{y_1}}{e^{y_1}+ e^{y_2}...+e^{y_{10}}}\\\\ P_2= \\frac{e^{y_2}}{e^{y_1}+ e^{y_2}...+e^{y_{10}}}  \\\\ \\vdots \\\\ P_{10}= \\frac{e^{y_{10}}}{e^{y_1}+ e^{y_2}...+e^{y_{10}}} \\end{array}\\right] \\Rightarrow \\theta(max(P))\\approx t   \n",
    "$$ "
   ]
  },
  {
   "cell_type": "code",
   "execution_count": 1,
   "metadata": {},
   "outputs": [],
   "source": [
    "import torch as pt\n",
    "import torch.nn as nn\n",
    "import torchvision.transforms as transforms"
   ]
  },
  {
   "cell_type": "markdown",
   "metadata": {},
   "source": [
    "Importing `Dataset` from $Pytorch$:"
   ]
  },
  {
   "cell_type": "code",
   "execution_count": 2,
   "metadata": {},
   "outputs": [],
   "source": [
    "import torchvision.datasets as dsets"
   ]
  },
  {
   "cell_type": "markdown",
   "metadata": {},
   "source": [
    "Importing *Matplotlib*:"
   ]
  },
  {
   "cell_type": "code",
   "execution_count": 3,
   "metadata": {},
   "outputs": [],
   "source": [
    "import matplotlib.pyplot as plt\n",
    "plt.style.use('ggplot')"
   ]
  },
  {
   "cell_type": "markdown",
   "metadata": {},
   "source": [
    "## Train and Validation data:\n",
    "Remember:\n",
    "```python\n",
    "train_datos=dsets.MNIST(.....,train=True,....)\n",
    "validation_datos=dsets.MNIST(.....,train=False,....)\n",
    "```"
   ]
  },
  {
   "cell_type": "code",
   "execution_count": 4,
   "metadata": {},
   "outputs": [],
   "source": [
    "train_dataset= dsets.MNIST(root='./data',train=True,download=True,transform=transforms.ToTensor())\n",
    "validation_dataset=dsets.MNIST(root='./data',train=False,download=True,transform=transforms.ToTensor())"
   ]
  },
  {
   "cell_type": "code",
   "execution_count": 5,
   "metadata": {},
   "outputs": [
    {
     "data": {
      "text/plain": [
       "torch.Size([1, 28, 28])"
      ]
     },
     "execution_count": 5,
     "metadata": {},
     "output_type": "execute_result"
    }
   ],
   "source": [
    "train_dataset[0][0].shape"
   ]
  },
  {
   "cell_type": "code",
   "execution_count": 6,
   "metadata": {},
   "outputs": [
    {
     "data": {
      "text/plain": [
       "60000"
      ]
     },
     "execution_count": 6,
     "metadata": {},
     "output_type": "execute_result"
    }
   ],
   "source": [
    "len(train_dataset)"
   ]
  },
  {
   "cell_type": "code",
   "execution_count": 7,
   "metadata": {},
   "outputs": [
    {
     "data": {
      "text/plain": [
       "torch.Size([1, 28, 28])"
      ]
     },
     "execution_count": 7,
     "metadata": {},
     "output_type": "execute_result"
    }
   ],
   "source": [
    "validation_dataset[0][0].shape"
   ]
  },
  {
   "cell_type": "code",
   "execution_count": 8,
   "metadata": {},
   "outputs": [
    {
     "data": {
      "text/plain": [
       "10000"
      ]
     },
     "execution_count": 8,
     "metadata": {},
     "output_type": "execute_result"
    }
   ],
   "source": [
    "len(validation_dataset)"
   ]
  },
  {
   "cell_type": "markdown",
   "metadata": {},
   "source": [
    "Defining `SoftMax`:"
   ]
  },
  {
   "cell_type": "code",
   "execution_count": 9,
   "metadata": {},
   "outputs": [],
   "source": [
    "class SoftMax(nn.Module):\n",
    "    def __init__(self,in_size,output_size):\n",
    "        super(SoftMax,self).__init__()\n",
    "        self.linear=nn.Linear(in_size,output_size)\n",
    "    \n",
    "    def forward(self,x):\n",
    "        out = self.linear(x)\n",
    "        return(out)    "
   ]
  },
  {
   "cell_type": "code",
   "execution_count": 10,
   "metadata": {},
   "outputs": [],
   "source": [
    "input_dim=28*28\n",
    "output_dim=10"
   ]
  },
  {
   "cell_type": "code",
   "execution_count": 11,
   "metadata": {},
   "outputs": [],
   "source": [
    "model=SoftMax(input_dim,output_dim)"
   ]
  },
  {
   "cell_type": "code",
   "execution_count": 12,
   "metadata": {},
   "outputs": [
    {
     "name": "stdout",
     "output_type": "stream",
     "text": [
      "W= torch.Size([10, 784])\n",
      "b= torch.Size([10])\n"
     ]
    }
   ],
   "source": [
    "print('W=',list(model.parameters())[0].size())\n",
    "print('b=',list(model.parameters())[1].size())"
   ]
  },
  {
   "cell_type": "code",
   "execution_count": 13,
   "metadata": {},
   "outputs": [],
   "source": [
    "criterion=nn.CrossEntropyLoss()"
   ]
  },
  {
   "cell_type": "markdown",
   "metadata": {},
   "source": [
    "## Train and validation loader:"
   ]
  },
  {
   "cell_type": "code",
   "execution_count": 14,
   "metadata": {},
   "outputs": [],
   "source": [
    "train_loader=pt.utils.data.DataLoader(dataset=train_dataset,batch_size=100)\n",
    "validation_loader=pt.utils.data.DataLoader(dataset=validation_dataset,batch_size=5000)"
   ]
  },
  {
   "cell_type": "markdown",
   "metadata": {},
   "source": [
    "## Running the program:"
   ]
  },
  {
   "cell_type": "code",
   "execution_count": 15,
   "metadata": {},
   "outputs": [],
   "source": [
    "loss_list=[]\n",
    "accuracy_list=[]\n",
    "optimizer=pt.optim.SGD(model.parameters(),lr=0.01)\n",
    "for epoch in range(100):\n",
    "    for x,y in train_loader:\n",
    "        optimizer.zero_grad()\n",
    "        z= model(x.view(-1,28*28))\n",
    "        loss=criterion(z,y)\n",
    "        loss.backward()\n",
    "        optimizer.step()\n",
    "    correct=0\n",
    "    for x_test,y_test in validation_loader:\n",
    "        z= model(x_test.view(-1,28*28))\n",
    "        _,yhat=pt.max(z.data,1)\n",
    "        correct += (yhat==y_test).sum().item()\n",
    "    accuracy= correct/len(validation_dataset)\n",
    "    accuracy_list.append(accuracy)\n",
    "    loss_list.append(float(loss))"
   ]
  },
  {
   "cell_type": "code",
   "execution_count": 16,
   "metadata": {},
   "outputs": [
    {
     "data": {
      "image/png": "[encoded data removed]",
      "text/plain": [
       "<Figure size 1008x504 with 2 Axes>"
      ]
     },
     "metadata": {},
     "output_type": "display_data"
    }
   ],
   "source": [
    "fig,ax=plt.subplots(2,1,sharex=True,figsize=(14,7))\n",
    "ax[0].plot(loss_list,color='blue')\n",
    "ax[0].set( ylabel='loss')\n",
    "ax[1].plot(accuracy_list,color='purple')\n",
    "ax[1].set( ylabel='acurracy')\n",
    "plt.xlabel('epochs')\n",
    "plt.show()"
   ]
  },
  {
   "cell_type": "markdown",
   "metadata": {},
   "source": [
    "* It shows a very low and expensive convergence.\n",
    "* The lower the loss value , the higher acurracy is."
   ]
  }
 ],
 "metadata": {
  "kernelspec": {
   "display_name": "Python 3",
   "language": "python",
   "name": "python3"
  },
  "language_info": {
   "codemirror_mode": {
    "name": "ipython",
    "version": 3
   },
   "file_extension": ".py",
   "mimetype": "text/x-python",
   "name": "python",
   "nbconvert_exporter": "python",
   "pygments_lexer": "ipython3",
   "version": "3.8.8"
  },
  "toc": {
   "base_numbering": 1,
   "nav_menu": {},
   "number_sections": true,
   "sideBar": true,
   "skip_h1_title": true,
   "title_cell": "Table of Contents",
   "title_sidebar": "Contents",
   "toc_cell": true,
   "toc_position": {},
   "toc_section_display": true,
   "toc_window_display": false
  }
 },
 "nbformat": 4,
 "nbformat_minor": 2
}
